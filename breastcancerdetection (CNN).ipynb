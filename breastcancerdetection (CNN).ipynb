{
  "nbformat": 4,
  "nbformat_minor": 0,
  "metadata": {
    "colab": {
      "provenance": [],
      "gpuType": "T4"
    },
    "kernelspec": {
      "name": "python3",
      "display_name": "Python 3"
    },
    "language_info": {
      "name": "python"
    },
    "accelerator": "GPU",
    "gpuClass": "standard"
  },
  "cells": [
    {
      "cell_type": "code",
      "execution_count": null,
      "metadata": {
        "colab": {
          "base_uri": "https://localhost:8080/"
        },
        "id": "I14cQ6KfP2-f",
        "outputId": "ad612a34-9f7d-4dd9-b5ac-a339e2672b64"
      },
      "outputs": [
        {
          "output_type": "stream",
          "name": "stdout",
          "text": [
            "Looking in indexes: https://pypi.org/simple, https://us-python.pkg.dev/colab-wheels/public/simple/\n",
            "Requirement already satisfied: kaggle in /usr/local/lib/python3.10/dist-packages (1.5.13)\n",
            "Requirement already satisfied: six>=1.10 in /usr/local/lib/python3.10/dist-packages (from kaggle) (1.16.0)\n",
            "Requirement already satisfied: certifi in /usr/local/lib/python3.10/dist-packages (from kaggle) (2022.12.7)\n",
            "Requirement already satisfied: python-dateutil in /usr/local/lib/python3.10/dist-packages (from kaggle) (2.8.2)\n",
            "Requirement already satisfied: requests in /usr/local/lib/python3.10/dist-packages (from kaggle) (2.27.1)\n",
            "Requirement already satisfied: tqdm in /usr/local/lib/python3.10/dist-packages (from kaggle) (4.65.0)\n",
            "Requirement already satisfied: python-slugify in /usr/local/lib/python3.10/dist-packages (from kaggle) (8.0.1)\n",
            "Requirement already satisfied: urllib3 in /usr/local/lib/python3.10/dist-packages (from kaggle) (1.26.15)\n",
            "Requirement already satisfied: text-unidecode>=1.3 in /usr/local/lib/python3.10/dist-packages (from python-slugify->kaggle) (1.3)\n",
            "Requirement already satisfied: charset-normalizer~=2.0.0 in /usr/local/lib/python3.10/dist-packages (from requests->kaggle) (2.0.12)\n",
            "Requirement already satisfied: idna<4,>=2.5 in /usr/local/lib/python3.10/dist-packages (from requests->kaggle) (3.4)\n"
          ]
        }
      ],
      "source": [
        "!pip install kaggle"
      ]
    },
    {
      "cell_type": "code",
      "source": [
        "# configuring the path of Kaggle.json file\n",
        "!mkdir -p ~/.kaggle\n",
        "!cp kaggle.json ~/.kaggle/\n",
        "!chmod 600 ~/.kaggle/kaggle.json"
      ],
      "metadata": {
        "id": "kpd0frubP5NE",
        "colab": {
          "base_uri": "https://localhost:8080/"
        },
        "outputId": "41b8f9b4-b547-4937-b452-c48b77a04c2c"
      },
      "execution_count": null,
      "outputs": [
        {
          "output_type": "stream",
          "name": "stdout",
          "text": [
            "cp: cannot stat 'kaggle.json': No such file or directory\n",
            "chmod: cannot access '/root/.kaggle/kaggle.json': No such file or directory\n"
          ]
        }
      ]
    },
    {
      "cell_type": "code",
      "source": [
        "!kaggle datasets download -d aryashah2k/breast-ultrasound-images-dataset"
      ],
      "metadata": {
        "colab": {
          "base_uri": "https://localhost:8080/"
        },
        "id": "2dlPkadXQeGa",
        "outputId": "f23d79d6-4d0f-4587-88bd-c091c135c0ca"
      },
      "execution_count": null,
      "outputs": [
        {
          "output_type": "stream",
          "name": "stdout",
          "text": [
            "Traceback (most recent call last):\n",
            "  File \"/usr/local/bin/kaggle\", line 5, in <module>\n",
            "    from kaggle.cli import main\n",
            "  File \"/usr/local/lib/python3.10/dist-packages/kaggle/__init__.py\", line 23, in <module>\n",
            "    api.authenticate()\n",
            "  File \"/usr/local/lib/python3.10/dist-packages/kaggle/api/kaggle_api_extended.py\", line 164, in authenticate\n",
            "    raise IOError('Could not find {}. Make sure it\\'s located in'\n",
            "OSError: Could not find kaggle.json. Make sure it's located in /root/.kaggle. Or use the environment method.\n"
          ]
        }
      ]
    },
    {
      "cell_type": "code",
      "source": [
        "!dataset = https://www.kaggle.com/datasets/aryashah2k/breast-ultrasound-images-dataset"
      ],
      "metadata": {
        "id": "MjIkHUkcBJWM",
        "colab": {
          "base_uri": "https://localhost:8080/"
        },
        "outputId": "c53db3f7-4784-4901-ec90-f5789ab62f19"
      },
      "execution_count": null,
      "outputs": [
        {
          "output_type": "stream",
          "name": "stdout",
          "text": [
            "/bin/bash: dataset: command not found\n"
          ]
        }
      ]
    },
    {
      "cell_type": "code",
      "source": [
        "# extracting the compessed Dataset\n",
        "from zipfile import ZipFile\n",
        "dataset = '/content/breast-ultrasound-images-dataset.zip'\n",
        "\n",
        "with ZipFile(dataset,'r') as zip:\n",
        "  zip.extractall()\n",
        "  print('The dataset is extracted')"
      ],
      "metadata": {
        "colab": {
          "base_uri": "https://localhost:8080/"
        },
        "id": "fjPFvyj9Qrq4",
        "outputId": "2447c5d7-a5d6-4c7b-9b14-312611560639"
      },
      "execution_count": null,
      "outputs": [
        {
          "output_type": "stream",
          "name": "stdout",
          "text": [
            "The dataset is extracted\n"
          ]
        }
      ]
    },
    {
      "cell_type": "code",
      "source": [
        "!ls"
      ],
      "metadata": {
        "colab": {
          "base_uri": "https://localhost:8080/"
        },
        "id": "FvBLDTGpR477",
        "outputId": "64b8cb76-eb92-4b82-ade5-1309f3e5abee"
      },
      "execution_count": null,
      "outputs": [
        {
          "output_type": "stream",
          "name": "stdout",
          "text": [
            "breast-ultrasound-images-dataset.zip  kaggle.json\n",
            "Dataset_BUSI_with_GT\t\t      sample_data\n"
          ]
        }
      ]
    },
    {
      "cell_type": "code",
      "source": [
        "import os\n",
        "import numpy as np\n",
        "import matplotlib.pyplot as plt\n",
        "import matplotlib.image as mpimg\n",
        "import cv2\n",
        "from google.colab.patches import cv2_imshow\n",
        "from PIL import Image\n",
        "from sklearn.model_selection import train_test_split"
      ],
      "metadata": {
        "id": "0wPS-1srR5k5"
      },
      "execution_count": null,
      "outputs": []
    },
    {
      "cell_type": "code",
      "source": [
        "benign_tumor = os.listdir('/content/Dataset_BUSI_with_GT/benign')\n",
        "print(benign_tumor[0:5])\n",
        "print(benign_tumor[-5:])\n"
      ],
      "metadata": {
        "colab": {
          "base_uri": "https://localhost:8080/"
        },
        "id": "cN73D-SESs8b",
        "outputId": "4a167eca-1ad7-4bba-ac74-df2d88f00b00"
      },
      "execution_count": null,
      "outputs": [
        {
          "output_type": "stream",
          "name": "stdout",
          "text": [
            "['benign (238)_mask.png', 'benign (261).png', 'benign (307)_mask.png', 'benign (68)_mask.png', 'benign (115).png']\n",
            "['benign (99)_mask.png', 'benign (314).png', 'benign (418)_mask.png', 'benign (184)_mask.png', 'benign (228).png']\n"
          ]
        }
      ]
    },
    {
      "cell_type": "code",
      "source": [
        "Malignant_tumor = os.listdir('/content/Dataset_BUSI_with_GT/malignant')\n",
        "print(Malignant_tumor[0:5])\n",
        "print(Malignant_tumor[-5:])\n"
      ],
      "metadata": {
        "colab": {
          "base_uri": "https://localhost:8080/"
        },
        "id": "D4fhQ7dHTcpl",
        "outputId": "f50d5a1c-6899-4789-cd8f-616ae013ff56"
      },
      "execution_count": null,
      "outputs": [
        {
          "output_type": "stream",
          "name": "stdout",
          "text": [
            "['malignant (160)_mask.png', 'malignant (85)_mask.png', 'malignant (89)_mask.png', 'malignant (100)_mask.png', 'malignant (56).png']\n",
            "['malignant (55)_mask.png', 'malignant (111).png', 'malignant (52).png', 'malignant (210).png', 'malignant (184)_mask.png']\n"
          ]
        }
      ]
    },
    {
      "cell_type": "code",
      "source": [
        "normal_case = os.listdir('/content/Dataset_BUSI_with_GT/normal')\n",
        "print(normal_case[0:5])\n",
        "print(normal_case[-5:])\n"
      ],
      "metadata": {
        "colab": {
          "base_uri": "https://localhost:8080/"
        },
        "id": "rSvVahI6UQa0",
        "outputId": "43308cf2-63d8-452c-9580-bf253e09926d"
      },
      "execution_count": null,
      "outputs": [
        {
          "output_type": "stream",
          "name": "stdout",
          "text": [
            "['normal (48).png', 'normal (39)_mask.png', 'normal (80).png', 'normal (105).png', 'normal (89).png']\n",
            "['normal (76)_mask.png', 'normal (101)_mask.png', 'normal (129).png', 'normal (17)_mask.png', 'normal (68)_mask.png']\n"
          ]
        }
      ]
    },
    {
      "cell_type": "code",
      "source": [
        "print('Number of with benign_tumor images:', len(benign_tumor))\n",
        "print('Number of with Malignant_tumor images:', len(Malignant_tumor))\n",
        "print('Number of with normal_case images:', len(normal_case))"
      ],
      "metadata": {
        "colab": {
          "base_uri": "https://localhost:8080/"
        },
        "id": "S11Cw_gMUjDw",
        "outputId": "d32f52e1-d509-4f7f-9f93-9b156b018447"
      },
      "execution_count": null,
      "outputs": [
        {
          "output_type": "stream",
          "name": "stdout",
          "text": [
            "Number of with benign_tumor images: 891\n",
            "Number of with Malignant_tumor images: 421\n",
            "Number of with normal_case images: 266\n"
          ]
        }
      ]
    },
    {
      "cell_type": "code",
      "source": [
        "#creating label\n",
        "#b = b\n",
        "#m= m\n",
        "#n = n"
      ],
      "metadata": {
        "id": "qvcfrGNLVOtS"
      },
      "execution_count": null,
      "outputs": []
    },
    {
      "cell_type": "code",
      "source": [
        "benign_labels  = [0]*891\n",
        "Malignan_labels = [1]*421\n",
        "normal_labels= [2]*266"
      ],
      "metadata": {
        "id": "WWSN5QLmWim_"
      },
      "execution_count": null,
      "outputs": []
    },
    {
      "cell_type": "code",
      "source": [
        "print(benign_labels[0:5])\n",
        "\n",
        "print(Malignan_labels[0:5])\n",
        "\n",
        "print(normal_labels[0:5])"
      ],
      "metadata": {
        "colab": {
          "base_uri": "https://localhost:8080/"
        },
        "id": "ILelx-klXQNx",
        "outputId": "76d94f27-5351-48bd-82f1-803ab8e609ce"
      },
      "execution_count": null,
      "outputs": [
        {
          "output_type": "stream",
          "name": "stdout",
          "text": [
            "[0, 0, 0, 0, 0]\n",
            "[1, 1, 1, 1, 1]\n",
            "[2, 2, 2, 2, 2]\n"
          ]
        }
      ]
    },
    {
      "cell_type": "code",
      "source": [
        "print(benign_labels[0:5])\n",
        "\n",
        "print(Malignan_labels[0:5])\n",
        "\n",
        "print(normal_labels[0:5])"
      ],
      "metadata": {
        "colab": {
          "base_uri": "https://localhost:8080/"
        },
        "id": "4qy6F_oiYSYH",
        "outputId": "bd820ba6-4690-4659-ab70-71fede981da5"
      },
      "execution_count": null,
      "outputs": [
        {
          "output_type": "stream",
          "name": "stdout",
          "text": [
            "[0, 0, 0, 0, 0]\n",
            "[1, 1, 1, 1, 1]\n",
            "[2, 2, 2, 2, 2]\n"
          ]
        }
      ]
    },
    {
      "cell_type": "code",
      "source": [
        "print(len(benign_labels))\n",
        "print(len(Malignan_labels))\n",
        "print(len(normal_labels))\n"
      ],
      "metadata": {
        "colab": {
          "base_uri": "https://localhost:8080/"
        },
        "id": "kLtWaMmSbr00",
        "outputId": "9d8a7b5b-665f-4db1-956e-cdbc80b31e54"
      },
      "execution_count": null,
      "outputs": [
        {
          "output_type": "stream",
          "name": "stdout",
          "text": [
            "891\n",
            "421\n",
            "266\n"
          ]
        }
      ]
    },
    {
      "cell_type": "code",
      "source": [
        "labels = benign_labels + Malignan_labels + normal_labels\n",
        "\n",
        "print(len(labels))\n",
        "print(labels[0:5])\n",
        "print(labels[-5:])"
      ],
      "metadata": {
        "colab": {
          "base_uri": "https://localhost:8080/"
        },
        "id": "rTemdoaab5HL",
        "outputId": "87e99b6f-3b90-469d-8cc4-a20f33fe34cb"
      },
      "execution_count": null,
      "outputs": [
        {
          "output_type": "stream",
          "name": "stdout",
          "text": [
            "1578\n",
            "[0, 0, 0, 0, 0]\n",
            "[2, 2, 2, 2, 2]\n"
          ]
        }
      ]
    },
    {
      "cell_type": "code",
      "source": [
        "#dispaly the img"
      ],
      "metadata": {
        "id": "cGVFc8lXc2Qz"
      },
      "execution_count": null,
      "outputs": []
    },
    {
      "cell_type": "code",
      "source": [
        "#displaying img with benign case\n",
        "img = mpimg.imread('/content/Dataset_BUSI_with_GT/benign/benign (141)_mask.png')\n",
        "imgplot = plt.imshow(img)\n",
        "plt.show()"
      ],
      "metadata": {
        "colab": {
          "base_uri": "https://localhost:8080/",
          "height": 435
        },
        "id": "M4ucmEB2cx-b",
        "outputId": "855ac112-e95d-422e-df52-26729bdc52d5"
      },
      "execution_count": null,
      "outputs": [
        {
          "output_type": "display_data",
          "data": {
            "text/plain": [
              "<Figure size 640x480 with 1 Axes>"
            ],
            "image/png": "[encoded data removed]"
          },
          "metadata": {}
        }
      ]
    },
    {
      "cell_type": "markdown",
      "source": [],
      "metadata": {
        "id": "plbQtV58fFTp"
      }
    },
    {
      "cell_type": "code",
      "source": [
        "#displaying img with malignant case\n",
        "img = mpimg.imread('/content/Dataset_BUSI_with_GT/malignant/malignant (149)_mask.png')\n",
        "imgplot = plt.imshow(img)\n",
        "plt.show()"
      ],
      "metadata": {
        "colab": {
          "base_uri": "https://localhost:8080/",
          "height": 435
        },
        "id": "KC3mDC0Kcz8I",
        "outputId": "9ca32434-5be2-4497-ea53-1645b43b049a"
      },
      "execution_count": null,
      "outputs": [
        {
          "output_type": "display_data",
          "data": {
            "text/plain": [
              "<Figure size 640x480 with 1 Axes>"
            ],
            "image/png": "[encoded data removed]"
          },
          "metadata": {}
        }
      ]
    },
    {
      "cell_type": "code",
      "source": [
        "#displaying img with normal case\n",
        "img = mpimg.imread('/content/Dataset_BUSI_with_GT/normal/normal (131)_mask.png')\n",
        "imgplot = plt.imshow(img)\n",
        "plt.show()"
      ],
      "metadata": {
        "colab": {
          "base_uri": "https://localhost:8080/",
          "height": 435
        },
        "id": "8_Mvo5leeafJ",
        "outputId": "2b33938b-fce9-4fce-8ed9-3fd6f5d7ef31"
      },
      "execution_count": null,
      "outputs": [
        {
          "output_type": "display_data",
          "data": {
            "text/plain": [
              "<Figure size 640x480 with 1 Axes>"
            ],
            "image/png": "[encoded data removed]"
          },
          "metadata": {}
        }
      ]
    },
    {
      "cell_type": "code",
      "source": [],
      "metadata": {
        "id": "ZaPEHhj0Emsd"
      },
      "execution_count": null,
      "outputs": []
    },
    {
      "cell_type": "markdown",
      "source": [
        "\n",
        "**Image** **Processing**\n",
        "\n",
        "Resize the Images\n",
        "\n",
        "Convert the images to numpy arrays"
      ],
      "metadata": {
        "id": "dFPqbtK9fJMA"
      }
    },
    {
      "cell_type": "code",
      "source": [
        "# convert images to numpy arrays+\n",
        "#note think you should change it in rgb or not\n",
        "\n",
        "benign_tumor_path = '/content/Dataset_BUSI_with_GT/benign/'\n",
        "\n",
        "data = []\n",
        "\n",
        "for img_file in benign_tumor:\n",
        "\n",
        "  image = Image.open(benign_tumor_path + img_file)\n",
        "  image = image.resize((128,128))\n",
        "  image = image.convert('RGB')\n",
        "  image = np.array(image)\n",
        "  data.append(image)\n",
        "\n",
        "\n",
        "\n",
        "Malignant_tumor_path = '/content/Dataset_BUSI_with_GT/malignant/'\n",
        "\n",
        "\n",
        "for img_file in Malignant_tumor:\n",
        "\n",
        "  image = Image.open(Malignant_tumor_path + img_file)\n",
        "  image = image.resize((128,128))\n",
        "  image = image.convert('RGB')\n",
        "  image = np.array(image)\n",
        "  data.append(image)\n",
        "\n",
        "\n",
        "normal_case_path = '/content/Dataset_BUSI_with_GT/normal/'\n",
        "\n",
        "\n",
        "for img_file in normal_case:\n",
        "\n",
        "  image = Image.open(normal_case_path + img_file)\n",
        "  image = image.resize((128,128))\n",
        "  image = image.convert('RGB')\n",
        "  image = np.array(image)\n",
        "  data.append(image)"
      ],
      "metadata": {
        "id": "rarY5iEkeno1"
      },
      "execution_count": null,
      "outputs": []
    },
    {
      "cell_type": "markdown",
      "source": [],
      "metadata": {
        "id": "B36Fa1JRfH36"
      }
    },
    {
      "cell_type": "code",
      "source": [
        "type(data)"
      ],
      "metadata": {
        "colab": {
          "base_uri": "https://localhost:8080/"
        },
        "id": "I8HkwMZXjG2q",
        "outputId": "b184f012-aac5-4689-8291-6ab90ed286b0"
      },
      "execution_count": null,
      "outputs": [
        {
          "output_type": "execute_result",
          "data": {
            "text/plain": [
              "list"
            ]
          },
          "metadata": {},
          "execution_count": 43
        }
      ]
    },
    {
      "cell_type": "code",
      "source": [
        "len(data)"
      ],
      "metadata": {
        "colab": {
          "base_uri": "https://localhost:8080/"
        },
        "id": "6cg9cmzWjNEU",
        "outputId": "734d348f-b009-4d8a-cf87-239297c6f29e"
      },
      "execution_count": null,
      "outputs": [
        {
          "output_type": "execute_result",
          "data": {
            "text/plain": [
              "1578"
            ]
          },
          "metadata": {},
          "execution_count": 44
        }
      ]
    },
    {
      "cell_type": "code",
      "source": [
        "data[0]"
      ],
      "metadata": {
        "colab": {
          "base_uri": "https://localhost:8080/"
        },
        "id": "i-56h_rbjQRd",
        "outputId": "76dfb8e9-1cfa-43d7-d819-997c6f14b459"
      },
      "execution_count": null,
      "outputs": [
        {
          "output_type": "execute_result",
          "data": {
            "text/plain": [
              "array([[[0, 0, 0],\n",
              "        [0, 0, 0],\n",
              "        [0, 0, 0],\n",
              "        ...,\n",
              "        [0, 0, 0],\n",
              "        [0, 0, 0],\n",
              "        [0, 0, 0]],\n",
              "\n",
              "       [[0, 0, 0],\n",
              "        [0, 0, 0],\n",
              "        [0, 0, 0],\n",
              "        ...,\n",
              "        [0, 0, 0],\n",
              "        [0, 0, 0],\n",
              "        [0, 0, 0]],\n",
              "\n",
              "       [[0, 0, 0],\n",
              "        [0, 0, 0],\n",
              "        [0, 0, 0],\n",
              "        ...,\n",
              "        [0, 0, 0],\n",
              "        [0, 0, 0],\n",
              "        [0, 0, 0]],\n",
              "\n",
              "       ...,\n",
              "\n",
              "       [[0, 0, 0],\n",
              "        [0, 0, 0],\n",
              "        [0, 0, 0],\n",
              "        ...,\n",
              "        [0, 0, 0],\n",
              "        [0, 0, 0],\n",
              "        [0, 0, 0]],\n",
              "\n",
              "       [[0, 0, 0],\n",
              "        [0, 0, 0],\n",
              "        [0, 0, 0],\n",
              "        ...,\n",
              "        [0, 0, 0],\n",
              "        [0, 0, 0],\n",
              "        [0, 0, 0]],\n",
              "\n",
              "       [[0, 0, 0],\n",
              "        [0, 0, 0],\n",
              "        [0, 0, 0],\n",
              "        ...,\n",
              "        [0, 0, 0],\n",
              "        [0, 0, 0],\n",
              "        [0, 0, 0]]], dtype=uint8)"
            ]
          },
          "metadata": {},
          "execution_count": 45
        }
      ]
    },
    {
      "cell_type": "code",
      "source": [
        "#type of 1st data in list which is npy array and nd array\n",
        "type(data[0])"
      ],
      "metadata": {
        "colab": {
          "base_uri": "https://localhost:8080/"
        },
        "id": "Qr5X5HLJjT8P",
        "outputId": "9b5214e4-c1be-4da7-df07-37f084643b0c"
      },
      "execution_count": null,
      "outputs": [
        {
          "output_type": "execute_result",
          "data": {
            "text/plain": [
              "numpy.ndarray"
            ]
          },
          "metadata": {},
          "execution_count": 46
        }
      ]
    },
    {
      "cell_type": "code",
      "source": [
        "#shape cause of its 128*128 dim\n",
        "data[0].shape"
      ],
      "metadata": {
        "colab": {
          "base_uri": "https://localhost:8080/"
        },
        "id": "prvW8BlxjZOq",
        "outputId": "eb8b1c3f-4c75-4f17-faf5-eaf3f11ff00d"
      },
      "execution_count": null,
      "outputs": [
        {
          "output_type": "execute_result",
          "data": {
            "text/plain": [
              "(128, 128, 3)"
            ]
          },
          "metadata": {},
          "execution_count": 49
        }
      ]
    },
    {
      "cell_type": "code",
      "source": [
        "# converting image list and label list to numpy arrays\n",
        "\n",
        "X = np.array(data)\n",
        "Y = np.array(labels)"
      ],
      "metadata": {
        "id": "CHtDfcevjdtI"
      },
      "execution_count": null,
      "outputs": []
    },
    {
      "cell_type": "code",
      "source": [
        "type(X)"
      ],
      "metadata": {
        "colab": {
          "base_uri": "https://localhost:8080/"
        },
        "id": "0v9z3aVbkcWh",
        "outputId": "60a4badc-ee63-4035-b0af-1cb11b6a1f67"
      },
      "execution_count": null,
      "outputs": [
        {
          "output_type": "execute_result",
          "data": {
            "text/plain": [
              "numpy.ndarray"
            ]
          },
          "metadata": {},
          "execution_count": 51
        }
      ]
    },
    {
      "cell_type": "code",
      "source": [
        "type(Y)"
      ],
      "metadata": {
        "colab": {
          "base_uri": "https://localhost:8080/"
        },
        "id": "ATvSh3rhkfaR",
        "outputId": "a5716030-3a33-49b1-cd09-5ff01ba0c743"
      },
      "execution_count": null,
      "outputs": [
        {
          "output_type": "execute_result",
          "data": {
            "text/plain": [
              "numpy.ndarray"
            ]
          },
          "metadata": {},
          "execution_count": 52
        }
      ]
    },
    {
      "cell_type": "code",
      "source": [
        "print(X.shape)\n",
        "print(Y.shape)"
      ],
      "metadata": {
        "colab": {
          "base_uri": "https://localhost:8080/"
        },
        "id": "UyWrDmwGkiMt",
        "outputId": "6c6dd360-a161-4b3d-b109-d6c233abcc80"
      },
      "execution_count": null,
      "outputs": [
        {
          "output_type": "stream",
          "name": "stdout",
          "text": [
            "(1578, 128, 128, 3)\n",
            "(1578,)\n"
          ]
        }
      ]
    },
    {
      "cell_type": "code",
      "source": [
        "print(Y)"
      ],
      "metadata": {
        "colab": {
          "base_uri": "https://localhost:8080/"
        },
        "id": "iSrpEEHakn4H",
        "outputId": "2fd9102a-454d-4151-eb40-824b5c67b3e0"
      },
      "execution_count": null,
      "outputs": [
        {
          "output_type": "stream",
          "name": "stdout",
          "text": [
            "[0 0 0 ... 2 2 2]\n"
          ]
        }
      ]
    },
    {
      "cell_type": "markdown",
      "source": [
        "**Train Test Split**"
      ],
      "metadata": {
        "id": "9awwrmC3loRW"
      }
    },
    {
      "cell_type": "code",
      "source": [
        "X_train, X_test, Y_train, Y_test = train_test_split(X, Y, test_size=0.2, random_state=2)"
      ],
      "metadata": {
        "id": "F1abKriHkrXb"
      },
      "execution_count": null,
      "outputs": []
    },
    {
      "cell_type": "code",
      "source": [
        "print(X.shape, X_train.shape, X_test.shape)"
      ],
      "metadata": {
        "colab": {
          "base_uri": "https://localhost:8080/"
        },
        "id": "XEeDrfzpl1e0",
        "outputId": "f9135a60-7e8d-4a51-f2a6-45924043f192"
      },
      "execution_count": null,
      "outputs": [
        {
          "output_type": "stream",
          "name": "stdout",
          "text": [
            "(1578, 128, 128, 3) (1262, 128, 128, 3) (316, 128, 128, 3)\n"
          ]
        }
      ]
    },
    {
      "cell_type": "code",
      "source": [
        "# scaling the data & for black 0 and for 1 white so we can know so white = 255 so we did this\n",
        "\n",
        "X_train_scaled = X_train/255\n",
        "\n",
        "X_test_scaled = X_test/255"
      ],
      "metadata": {
        "id": "-NymKpYVl36a"
      },
      "execution_count": null,
      "outputs": []
    },
    {
      "cell_type": "code",
      "source": [
        "#recreate this train and test have some error also run X_train[0]\n",
        "X[0]"
      ],
      "metadata": {
        "colab": {
          "base_uri": "https://localhost:8080/"
        },
        "id": "3FB2FhR4ndem",
        "outputId": "e6ce666d-123d-4b06-d413-1f0969f6d85e"
      },
      "execution_count": null,
      "outputs": [
        {
          "output_type": "execute_result",
          "data": {
            "text/plain": [
              "array([[[0, 0, 0],\n",
              "        [0, 0, 0],\n",
              "        [0, 0, 0],\n",
              "        ...,\n",
              "        [0, 0, 0],\n",
              "        [0, 0, 0],\n",
              "        [0, 0, 0]],\n",
              "\n",
              "       [[0, 0, 0],\n",
              "        [0, 0, 0],\n",
              "        [0, 0, 0],\n",
              "        ...,\n",
              "        [0, 0, 0],\n",
              "        [0, 0, 0],\n",
              "        [0, 0, 0]],\n",
              "\n",
              "       [[0, 0, 0],\n",
              "        [0, 0, 0],\n",
              "        [0, 0, 0],\n",
              "        ...,\n",
              "        [0, 0, 0],\n",
              "        [0, 0, 0],\n",
              "        [0, 0, 0]],\n",
              "\n",
              "       ...,\n",
              "\n",
              "       [[0, 0, 0],\n",
              "        [0, 0, 0],\n",
              "        [0, 0, 0],\n",
              "        ...,\n",
              "        [0, 0, 0],\n",
              "        [0, 0, 0],\n",
              "        [0, 0, 0]],\n",
              "\n",
              "       [[0, 0, 0],\n",
              "        [0, 0, 0],\n",
              "        [0, 0, 0],\n",
              "        ...,\n",
              "        [0, 0, 0],\n",
              "        [0, 0, 0],\n",
              "        [0, 0, 0]],\n",
              "\n",
              "       [[0, 0, 0],\n",
              "        [0, 0, 0],\n",
              "        [0, 0, 0],\n",
              "        ...,\n",
              "        [0, 0, 0],\n",
              "        [0, 0, 0],\n",
              "        [0, 0, 0]]], dtype=uint8)"
            ]
          },
          "metadata": {},
          "execution_count": 58
        }
      ]
    },
    {
      "cell_type": "code",
      "source": [
        "X_train_inv = X_train*255\n",
        "X_test_inv = X_test*255"
      ],
      "metadata": {
        "id": "gcxD2DzbKd83"
      },
      "execution_count": null,
      "outputs": []
    },
    {
      "cell_type": "code",
      "source": [
        "X_train_scaled[0]"
      ],
      "metadata": {
        "colab": {
          "base_uri": "https://localhost:8080/"
        },
        "id": "IawhGjXxmV3m",
        "outputId": "f398f242-52cf-4cf1-d45f-58bd63c90d43"
      },
      "execution_count": null,
      "outputs": [
        {
          "output_type": "execute_result",
          "data": {
            "text/plain": [
              "array([[[0.58431373, 0.58431373, 0.58431373],\n",
              "        [0.60392157, 0.60392157, 0.60392157],\n",
              "        [0.59215686, 0.59215686, 0.59215686],\n",
              "        ...,\n",
              "        [0.70196078, 0.70196078, 0.70196078],\n",
              "        [0.65098039, 0.65098039, 0.65098039],\n",
              "        [0.65490196, 0.65490196, 0.65490196]],\n",
              "\n",
              "       [[0.65882353, 0.65882353, 0.65882353],\n",
              "        [0.66666667, 0.66666667, 0.66666667],\n",
              "        [0.6627451 , 0.6627451 , 0.6627451 ],\n",
              "        ...,\n",
              "        [0.78039216, 0.78039216, 0.78039216],\n",
              "        [0.78431373, 0.78431373, 0.78431373],\n",
              "        [0.76862745, 0.76862745, 0.76862745]],\n",
              "\n",
              "       [[0.75686275, 0.75686275, 0.75686275],\n",
              "        [0.78431373, 0.78431373, 0.78431373],\n",
              "        [0.74901961, 0.74901961, 0.74901961],\n",
              "        ...,\n",
              "        [0.65882353, 0.65882353, 0.65882353],\n",
              "        [0.66666667, 0.66666667, 0.66666667],\n",
              "        [0.65098039, 0.65098039, 0.65098039]],\n",
              "\n",
              "       ...,\n",
              "\n",
              "       [[0.00784314, 0.00784314, 0.00784314],\n",
              "        [0.01176471, 0.01176471, 0.01176471],\n",
              "        [0.00784314, 0.00784314, 0.00784314],\n",
              "        ...,\n",
              "        [0.00392157, 0.00392157, 0.00392157],\n",
              "        [0.00392157, 0.00392157, 0.00392157],\n",
              "        [0.00392157, 0.00392157, 0.00392157]],\n",
              "\n",
              "       [[0.00784314, 0.00784314, 0.00784314],\n",
              "        [0.00784314, 0.00784314, 0.00784314],\n",
              "        [0.00784314, 0.00784314, 0.00784314],\n",
              "        ...,\n",
              "        [0.00392157, 0.00392157, 0.00392157],\n",
              "        [0.00392157, 0.00392157, 0.00392157],\n",
              "        [0.00392157, 0.00392157, 0.00392157]],\n",
              "\n",
              "       [[0.00392157, 0.00392157, 0.00392157],\n",
              "        [0.00392157, 0.00392157, 0.00392157],\n",
              "        [0.00392157, 0.00392157, 0.00392157],\n",
              "        ...,\n",
              "        [0.00392157, 0.00392157, 0.00392157],\n",
              "        [0.00392157, 0.00392157, 0.00392157],\n",
              "        [0.00392157, 0.00392157, 0.00392157]]])"
            ]
          },
          "metadata": {},
          "execution_count": 60
        }
      ]
    },
    {
      "cell_type": "code",
      "source": [],
      "metadata": {
        "id": "K6QJ833FvnR-"
      },
      "execution_count": null,
      "outputs": []
    },
    {
      "cell_type": "markdown",
      "source": [
        "**Building a Convolutional Neural Networks (CNN)**"
      ],
      "metadata": {
        "id": "rOvd3OPIswe1"
      }
    },
    {
      "cell_type": "code",
      "source": [
        "import tensorflow as tf\n",
        "from tensorflow import keras"
      ],
      "metadata": {
        "id": "ZLSi1xPNvq4K"
      },
      "execution_count": null,
      "outputs": []
    },
    {
      "cell_type": "code",
      "source": [
        "num_of_classes = 3\n",
        "\n",
        "#stack all our layers\n",
        "model = keras.Sequential()\n",
        "\n",
        "#adding some layer and filter value like 32 64 and flatten layer two dense layer and final op layer\n",
        "model.add(keras.layers.Conv2D(32, kernel_size=(3,3), activation='relu', input_shape=(128,128,3)))\n",
        "model.add(keras.layers.MaxPooling2D(pool_size=(2,2)))\n",
        "\n",
        "\n",
        "model.add(keras.layers.Conv2D(64, kernel_size=(3,3), activation='relu'))\n",
        "model.add(keras.layers.MaxPooling2D(pool_size=(2,2)))\n",
        "\n",
        "\n",
        "#model.add(keras.layers.Conv2D(128, kernel_size=(3,3), activation='relu'))\n",
        "#model.add(keras.layers.MaxPooling2D(pool_size=(2,2)))\n",
        "\n",
        "model.add(keras.layers.Flatten())\n",
        "\n",
        "model.add(keras.layers.Dense(128, activation='relu'))\n",
        "model.add(keras.layers.Dropout(0.5))\n",
        "\n",
        "model.add(keras.layers.Dense(64, activation='relu'))\n",
        "model.add(keras.layers.Dropout(0.5))\n",
        "\n",
        "\n",
        "model.add(keras.layers.Dense(num_of_classes, activation='softmax'))"
      ],
      "metadata": {
        "id": "4Ey51oa7nFIH"
      },
      "execution_count": null,
      "outputs": []
    },
    {
      "cell_type": "code",
      "source": [
        "# compile the neural network means to set\n",
        "#optimization algo\n",
        "#loss fun matrix for our nn\n",
        "model.compile(optimizer='adam',\n",
        "              loss='sparse_categorical_crossentropy',\n",
        "              metrics=['acc'])"
      ],
      "metadata": {
        "id": "l-MLicUDv3rJ"
      },
      "execution_count": null,
      "outputs": []
    },
    {
      "cell_type": "code",
      "source": [
        "# training the neural network trin in 90 and 10 rem 10 vali carried out here\n",
        "history = model.fit(X_train_scaled, Y_train, validation_split=0.1, epochs=5)"
      ],
      "metadata": {
        "colab": {
          "base_uri": "https://localhost:8080/"
        },
        "id": "gUicEUc1w3f2",
        "outputId": "e403403c-9a73-4644-cd51-2d3e09eafe56"
      },
      "execution_count": null,
      "outputs": [
        {
          "output_type": "stream",
          "name": "stdout",
          "text": [
            "Epoch 1/5\n",
            "36/36 [==============================] - 13s 38ms/step - loss: 1.0519 - acc: 0.4943 - val_loss: 0.8998 - val_acc: 0.5906\n",
            "Epoch 2/5\n",
            "36/36 [==============================] - 1s 16ms/step - loss: 0.9016 - acc: 0.5965 - val_loss: 0.7848 - val_acc: 0.7008\n",
            "Epoch 3/5\n",
            "36/36 [==============================] - 1s 20ms/step - loss: 0.7959 - acc: 0.6581 - val_loss: 0.7184 - val_acc: 0.7087\n",
            "Epoch 4/5\n",
            "36/36 [==============================] - 1s 17ms/step - loss: 0.7093 - acc: 0.7048 - val_loss: 0.6936 - val_acc: 0.7244\n",
            "Epoch 5/5\n",
            "36/36 [==============================] - 1s 22ms/step - loss: 0.5986 - acc: 0.7419 - val_loss: 0.6789 - val_acc: 0.7165\n"
          ]
        }
      ]
    },
    {
      "cell_type": "markdown",
      "source": [],
      "metadata": {
        "id": "qYXV1kWJx609"
      }
    },
    {
      "cell_type": "markdown",
      "source": [
        "**Model Evaluation**"
      ],
      "metadata": {
        "id": "ve3EgGDnx8pa"
      }
    },
    {
      "cell_type": "code",
      "source": [
        "loss, accuracy = model.evaluate(X_test_scaled, Y_test)\n",
        "print('Test Accuracy =', accuracy)"
      ],
      "metadata": {
        "colab": {
          "base_uri": "https://localhost:8080/"
        },
        "id": "gQfSRuhNw4B5",
        "outputId": "830cb862-944a-4ba5-82ee-9fa113197385"
      },
      "execution_count": null,
      "outputs": [
        {
          "output_type": "stream",
          "name": "stdout",
          "text": [
            "10/10 [==============================] - 0s 25ms/step - loss: 0.8206 - acc: 0.6741\n",
            "Test Accuracy = 0.6740506291389465\n"
          ]
        }
      ]
    },
    {
      "cell_type": "code",
      "source": [
        "h = history\n",
        "\n",
        "# plot the loss value\n",
        "plt.plot(h.history['loss'], label='train loss')\n",
        "plt.plot(h.history['val_loss'], label='validation loss')\n",
        "plt.legend()\n",
        "plt.show()\n",
        "\n",
        "# plot the accuracy value\n",
        "plt.plot(h.history['acc'], label='train accuracy')\n",
        "plt.plot(h.history['val_acc'], label='validation accuracy')\n",
        "plt.legend()\n",
        "plt.show()"
      ],
      "metadata": {
        "colab": {
          "base_uri": "https://localhost:8080/",
          "height": 843
        },
        "id": "EF9a9bzmyEsB",
        "outputId": "27bff6c7-a1a1-4253-fa14-258676294db9"
      },
      "execution_count": null,
      "outputs": [
        {
          "output_type": "display_data",
          "data": {
            "text/plain": [
              "<Figure size 640x480 with 1 Axes>"
            ],
            "image/png": "[encoded data removed]"
          },
          "metadata": {}
        },
        {
          "output_type": "display_data",
          "data": {
            "text/plain": [
              "<Figure size 640x480 with 1 Axes>"
            ],
            "image/png": "[encoded data removed]"
          },
          "metadata": {}
        }
      ]
    },
    {
      "cell_type": "code",
      "source": [
        "input_image_path = input('Path of the image to be predicted: ')\n",
        "\n",
        "input_image = cv2.imread(input_image_path)\n",
        "\n",
        "cv2_imshow(input_image)\n",
        "\n",
        "input_image_resized = cv2.resize(input_image, (128,128))\n",
        "\n",
        "input_image_scaled = input_image_resized/255\n",
        "\n",
        "input_image_reshaped = np.reshape(input_image_scaled, [1,128,128,3])\n",
        "\n",
        "input_prediction = model.predict(input_image_reshaped)\n",
        "\n",
        "print(input_prediction)\n",
        "\n",
        "\n",
        "input_pred_label = np.argmax(input_prediction)\n",
        "\n",
        "print(input_pred_label)\n",
        "\n",
        "\n",
        "if input_pred_label == 0:\n",
        "\n",
        "  print('The person in the image is having benign tumor')\n",
        "\n",
        "elif input_pred_label == 1:\n",
        "\n",
        "  print('The person in the image is having malignant tumor')\n",
        "\n",
        "else:\n",
        "\n",
        "  print('The person in the image is normal case')"
      ],
      "metadata": {
        "colab": {
          "base_uri": "https://localhost:8080/",
          "height": 522
        },
        "id": "cVTZtEvdyJZf",
        "outputId": "0c2c76f3-a1d2-409a-dd75-55949682bc8f"
      },
      "execution_count": null,
      "outputs": [
        {
          "name": "stdout",
          "output_type": "stream",
          "text": [
            "Path of the image to be predicted: /content/download (1).png\n"
          ]
        },
        {
          "output_type": "display_data",
          "data": {
            "text/plain": [
              "<PIL.Image.Image image mode=RGB size=501x418 at 0x7FCC599341C0>"
            ],
            "image/png": "[encoded data removed]"
          },
          "metadata": {}
        },
        {
          "output_type": "stream",
          "name": "stdout",
          "text": [
            "1/1 [==============================] - 0s 156ms/step\n",
            "[[0.9862716  0.00803253 0.00569579]]\n",
            "0\n",
            "The person in the image is having benign tumor\n"
          ]
        }
      ]
    },
    {
      "cell_type": "code",
      "source": [
        "-\n"
      ],
      "metadata": {
        "id": "pEnpnToi1uuI"
      },
      "execution_count": null,
      "outputs": []
    }
  ]
}